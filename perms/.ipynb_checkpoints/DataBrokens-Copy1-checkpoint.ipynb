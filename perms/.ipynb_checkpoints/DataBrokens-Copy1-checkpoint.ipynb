{
 "cells": [
  {
   "cell_type": "code",
   "execution_count": 4,
   "metadata": {},
   "outputs": [],
   "source": [
    "file = \"health.csv\""
   ]
  },
  {
   "cell_type": "code",
   "execution_count": 2,
   "metadata": {},
   "outputs": [],
   "source": [
    "import pandas as pd"
   ]
  },
  {
   "cell_type": "code",
   "execution_count": 5,
   "metadata": {},
   "outputs": [],
   "source": [
    "data = pd.read_csv(file)"
   ]
  },
  {
   "cell_type": "code",
   "execution_count": 7,
   "metadata": {},
   "outputs": [
    {
     "data": {
      "text/html": [
       "<div>\n",
       "<style>\n",
       "    .dataframe thead tr:only-child th {\n",
       "        text-align: right;\n",
       "    }\n",
       "\n",
       "    .dataframe thead th {\n",
       "        text-align: left;\n",
       "    }\n",
       "\n",
       "    .dataframe tbody tr th {\n",
       "        vertical-align: top;\n",
       "    }\n",
       "</style>\n",
       "<table border=\"1\" class=\"dataframe\">\n",
       "  <thead>\n",
       "    <tr style=\"text-align: right;\">\n",
       "      <th></th>\n",
       "      <th>1526000355893</th>\n",
       "      <th>00 01 02 03 04 05 06 07 08 09 0A 0B 0C 0D 0E 0F 10 11 12 13 14 15 16 17</th>\n",
       "      <th>Thu May 10 17:59:15 MST 2018</th>\n",
       "    </tr>\n",
       "  </thead>\n",
       "  <tbody>\n",
       "    <tr>\n",
       "      <th>0</th>\n",
       "      <td>1526000355900</td>\n",
       "      <td>00 01 02 03 04 05 06 07 08 09 0A 0B 0C 0D 0E ...</td>\n",
       "      <td>Thu May 10 17:59:15 MST 2018</td>\n",
       "    </tr>\n",
       "    <tr>\n",
       "      <th>1</th>\n",
       "      <td>1526000356879</td>\n",
       "      <td>00 01 02 03 04 05 06 07 08 09 0A 0B 0C 0D 0E ...</td>\n",
       "      <td>Thu May 10 17:59:16 MST 2018</td>\n",
       "    </tr>\n",
       "    <tr>\n",
       "      <th>2</th>\n",
       "      <td>1526000356886</td>\n",
       "      <td>00 01 02 03 04 05 06 07 08 09 0A 0B 0C 0D 0E ...</td>\n",
       "      <td>Thu May 10 17:59:16 MST 2018</td>\n",
       "    </tr>\n",
       "    <tr>\n",
       "      <th>3</th>\n",
       "      <td>1526000357881</td>\n",
       "      <td>00 01 02 03 04 05 06 07 08 09 0A 0B 0C 0D 0E ...</td>\n",
       "      <td>Thu May 10 17:59:17 MST 2018</td>\n",
       "    </tr>\n",
       "    <tr>\n",
       "      <th>4</th>\n",
       "      <td>1526000357902</td>\n",
       "      <td>00 01 02 03 04 05 06 07 08 09 0A 0B 0C 0D 0E ...</td>\n",
       "      <td>Thu May 10 17:59:17 MST 2018</td>\n",
       "    </tr>\n",
       "  </tbody>\n",
       "</table>\n",
       "</div>"
      ],
      "text/plain": [
       "   1526000355893  \\\n",
       "0  1526000355900   \n",
       "1  1526000356879   \n",
       "2  1526000356886   \n",
       "3  1526000357881   \n",
       "4  1526000357902   \n",
       "\n",
       "   00 01 02 03 04 05 06 07 08 09 0A 0B 0C 0D 0E 0F 10 11 12 13 14 15 16 17   \\\n",
       "0   00 01 02 03 04 05 06 07 08 09 0A 0B 0C 0D 0E ...                          \n",
       "1   00 01 02 03 04 05 06 07 08 09 0A 0B 0C 0D 0E ...                          \n",
       "2   00 01 02 03 04 05 06 07 08 09 0A 0B 0C 0D 0E ...                          \n",
       "3   00 01 02 03 04 05 06 07 08 09 0A 0B 0C 0D 0E ...                          \n",
       "4   00 01 02 03 04 05 06 07 08 09 0A 0B 0C 0D 0E ...                          \n",
       "\n",
       "    Thu May 10 17:59:15 MST 2018  \n",
       "0   Thu May 10 17:59:15 MST 2018  \n",
       "1   Thu May 10 17:59:16 MST 2018  \n",
       "2   Thu May 10 17:59:16 MST 2018  \n",
       "3   Thu May 10 17:59:17 MST 2018  \n",
       "4   Thu May 10 17:59:17 MST 2018  "
      ]
     },
     "execution_count": 7,
     "metadata": {},
     "output_type": "execute_result"
    }
   ],
   "source": [
    "data.head()"
   ]
  },
  {
   "cell_type": "code",
   "execution_count": 22,
   "metadata": {},
   "outputs": [],
   "source": [
    "data.columns = [\"EpochTime\", \"Data\", \"DateTime\"]"
   ]
  },
  {
   "cell_type": "code",
   "execution_count": 23,
   "metadata": {},
   "outputs": [
    {
     "data": {
      "text/html": [
       "<div>\n",
       "<style>\n",
       "    .dataframe thead tr:only-child th {\n",
       "        text-align: right;\n",
       "    }\n",
       "\n",
       "    .dataframe thead th {\n",
       "        text-align: left;\n",
       "    }\n",
       "\n",
       "    .dataframe tbody tr th {\n",
       "        vertical-align: top;\n",
       "    }\n",
       "</style>\n",
       "<table border=\"1\" class=\"dataframe\">\n",
       "  <thead>\n",
       "    <tr style=\"text-align: right;\">\n",
       "      <th></th>\n",
       "      <th>EpochTime</th>\n",
       "      <th>Data</th>\n",
       "      <th>DateTime</th>\n",
       "    </tr>\n",
       "  </thead>\n",
       "  <tbody>\n",
       "    <tr>\n",
       "      <th>0</th>\n",
       "      <td>1526000355900</td>\n",
       "      <td>00 01 02 03 04 05 06 07 08 09 0A 0B 0C 0D 0E ...</td>\n",
       "      <td>Thu May 10 17:59:15 MST 2018</td>\n",
       "    </tr>\n",
       "    <tr>\n",
       "      <th>1</th>\n",
       "      <td>1526000356879</td>\n",
       "      <td>00 01 02 03 04 05 06 07 08 09 0A 0B 0C 0D 0E ...</td>\n",
       "      <td>Thu May 10 17:59:16 MST 2018</td>\n",
       "    </tr>\n",
       "    <tr>\n",
       "      <th>2</th>\n",
       "      <td>1526000356886</td>\n",
       "      <td>00 01 02 03 04 05 06 07 08 09 0A 0B 0C 0D 0E ...</td>\n",
       "      <td>Thu May 10 17:59:16 MST 2018</td>\n",
       "    </tr>\n",
       "    <tr>\n",
       "      <th>3</th>\n",
       "      <td>1526000357881</td>\n",
       "      <td>00 01 02 03 04 05 06 07 08 09 0A 0B 0C 0D 0E ...</td>\n",
       "      <td>Thu May 10 17:59:17 MST 2018</td>\n",
       "    </tr>\n",
       "    <tr>\n",
       "      <th>4</th>\n",
       "      <td>1526000357902</td>\n",
       "      <td>00 01 02 03 04 05 06 07 08 09 0A 0B 0C 0D 0E ...</td>\n",
       "      <td>Thu May 10 17:59:17 MST 2018</td>\n",
       "    </tr>\n",
       "  </tbody>\n",
       "</table>\n",
       "</div>"
      ],
      "text/plain": [
       "       EpochTime                                               Data  \\\n",
       "0  1526000355900   00 01 02 03 04 05 06 07 08 09 0A 0B 0C 0D 0E ...   \n",
       "1  1526000356879   00 01 02 03 04 05 06 07 08 09 0A 0B 0C 0D 0E ...   \n",
       "2  1526000356886   00 01 02 03 04 05 06 07 08 09 0A 0B 0C 0D 0E ...   \n",
       "3  1526000357881   00 01 02 03 04 05 06 07 08 09 0A 0B 0C 0D 0E ...   \n",
       "4  1526000357902   00 01 02 03 04 05 06 07 08 09 0A 0B 0C 0D 0E ...   \n",
       "\n",
       "                        DateTime  \n",
       "0   Thu May 10 17:59:15 MST 2018  \n",
       "1   Thu May 10 17:59:16 MST 2018  \n",
       "2   Thu May 10 17:59:16 MST 2018  \n",
       "3   Thu May 10 17:59:17 MST 2018  \n",
       "4   Thu May 10 17:59:17 MST 2018  "
      ]
     },
     "execution_count": 23,
     "metadata": {},
     "output_type": "execute_result"
    }
   ],
   "source": [
    "data.head()"
   ]
  },
  {
   "cell_type": "code",
   "execution_count": 24,
   "metadata": {},
   "outputs": [],
   "source": [
    "data[\"SimpleTime\"] = (data[\"EpochTime\"] - data[\"EpochTime\"][0])"
   ]
  },
  {
   "cell_type": "code",
   "execution_count": 26,
   "metadata": {},
   "outputs": [
    {
     "data": {
      "text/html": [
       "<div>\n",
       "<style>\n",
       "    .dataframe thead tr:only-child th {\n",
       "        text-align: right;\n",
       "    }\n",
       "\n",
       "    .dataframe thead th {\n",
       "        text-align: left;\n",
       "    }\n",
       "\n",
       "    .dataframe tbody tr th {\n",
       "        vertical-align: top;\n",
       "    }\n",
       "</style>\n",
       "<table border=\"1\" class=\"dataframe\">\n",
       "  <thead>\n",
       "    <tr style=\"text-align: right;\">\n",
       "      <th></th>\n",
       "      <th>EpochTime</th>\n",
       "      <th>Data</th>\n",
       "      <th>DateTime</th>\n",
       "      <th>SimpleTime</th>\n",
       "    </tr>\n",
       "  </thead>\n",
       "  <tbody>\n",
       "    <tr>\n",
       "      <th>0</th>\n",
       "      <td>1526000355900</td>\n",
       "      <td>00 01 02 03 04 05 06 07 08 09 0A 0B 0C 0D 0E ...</td>\n",
       "      <td>Thu May 10 17:59:15 MST 2018</td>\n",
       "      <td>0</td>\n",
       "    </tr>\n",
       "    <tr>\n",
       "      <th>1</th>\n",
       "      <td>1526000356879</td>\n",
       "      <td>00 01 02 03 04 05 06 07 08 09 0A 0B 0C 0D 0E ...</td>\n",
       "      <td>Thu May 10 17:59:16 MST 2018</td>\n",
       "      <td>979</td>\n",
       "    </tr>\n",
       "    <tr>\n",
       "      <th>2</th>\n",
       "      <td>1526000356886</td>\n",
       "      <td>00 01 02 03 04 05 06 07 08 09 0A 0B 0C 0D 0E ...</td>\n",
       "      <td>Thu May 10 17:59:16 MST 2018</td>\n",
       "      <td>986</td>\n",
       "    </tr>\n",
       "    <tr>\n",
       "      <th>3</th>\n",
       "      <td>1526000357881</td>\n",
       "      <td>00 01 02 03 04 05 06 07 08 09 0A 0B 0C 0D 0E ...</td>\n",
       "      <td>Thu May 10 17:59:17 MST 2018</td>\n",
       "      <td>1981</td>\n",
       "    </tr>\n",
       "    <tr>\n",
       "      <th>4</th>\n",
       "      <td>1526000357902</td>\n",
       "      <td>00 01 02 03 04 05 06 07 08 09 0A 0B 0C 0D 0E ...</td>\n",
       "      <td>Thu May 10 17:59:17 MST 2018</td>\n",
       "      <td>2002</td>\n",
       "    </tr>\n",
       "  </tbody>\n",
       "</table>\n",
       "</div>"
      ],
      "text/plain": [
       "       EpochTime                                               Data  \\\n",
       "0  1526000355900   00 01 02 03 04 05 06 07 08 09 0A 0B 0C 0D 0E ...   \n",
       "1  1526000356879   00 01 02 03 04 05 06 07 08 09 0A 0B 0C 0D 0E ...   \n",
       "2  1526000356886   00 01 02 03 04 05 06 07 08 09 0A 0B 0C 0D 0E ...   \n",
       "3  1526000357881   00 01 02 03 04 05 06 07 08 09 0A 0B 0C 0D 0E ...   \n",
       "4  1526000357902   00 01 02 03 04 05 06 07 08 09 0A 0B 0C 0D 0E ...   \n",
       "\n",
       "                        DateTime  SimpleTime  \n",
       "0   Thu May 10 17:59:15 MST 2018           0  \n",
       "1   Thu May 10 17:59:16 MST 2018         979  \n",
       "2   Thu May 10 17:59:16 MST 2018         986  \n",
       "3   Thu May 10 17:59:17 MST 2018        1981  \n",
       "4   Thu May 10 17:59:17 MST 2018        2002  "
      ]
     },
     "execution_count": 26,
     "metadata": {},
     "output_type": "execute_result"
    }
   ],
   "source": [
    "data.head()"
   ]
  },
  {
   "cell_type": "code",
   "execution_count": 32,
   "metadata": {},
   "outputs": [],
   "source": [
    "data[\"TimeIndex\"] = round(data[\"SimpleTime\"]/1000)"
   ]
  },
  {
   "cell_type": "code",
   "execution_count": 33,
   "metadata": {},
   "outputs": [
    {
     "data": {
      "text/html": [
       "<div>\n",
       "<style>\n",
       "    .dataframe thead tr:only-child th {\n",
       "        text-align: right;\n",
       "    }\n",
       "\n",
       "    .dataframe thead th {\n",
       "        text-align: left;\n",
       "    }\n",
       "\n",
       "    .dataframe tbody tr th {\n",
       "        vertical-align: top;\n",
       "    }\n",
       "</style>\n",
       "<table border=\"1\" class=\"dataframe\">\n",
       "  <thead>\n",
       "    <tr style=\"text-align: right;\">\n",
       "      <th></th>\n",
       "      <th>EpochTime</th>\n",
       "      <th>Data</th>\n",
       "      <th>DateTime</th>\n",
       "      <th>SimpleTime</th>\n",
       "      <th>TimeIndex</th>\n",
       "    </tr>\n",
       "  </thead>\n",
       "  <tbody>\n",
       "    <tr>\n",
       "      <th>0</th>\n",
       "      <td>1526000355900</td>\n",
       "      <td>00 01 02 03 04 05 06 07 08 09 0A 0B 0C 0D 0E ...</td>\n",
       "      <td>Thu May 10 17:59:15 MST 2018</td>\n",
       "      <td>0</td>\n",
       "      <td>0.0</td>\n",
       "    </tr>\n",
       "    <tr>\n",
       "      <th>1</th>\n",
       "      <td>1526000356879</td>\n",
       "      <td>00 01 02 03 04 05 06 07 08 09 0A 0B 0C 0D 0E ...</td>\n",
       "      <td>Thu May 10 17:59:16 MST 2018</td>\n",
       "      <td>979</td>\n",
       "      <td>1.0</td>\n",
       "    </tr>\n",
       "    <tr>\n",
       "      <th>2</th>\n",
       "      <td>1526000356886</td>\n",
       "      <td>00 01 02 03 04 05 06 07 08 09 0A 0B 0C 0D 0E ...</td>\n",
       "      <td>Thu May 10 17:59:16 MST 2018</td>\n",
       "      <td>986</td>\n",
       "      <td>1.0</td>\n",
       "    </tr>\n",
       "    <tr>\n",
       "      <th>3</th>\n",
       "      <td>1526000357881</td>\n",
       "      <td>00 01 02 03 04 05 06 07 08 09 0A 0B 0C 0D 0E ...</td>\n",
       "      <td>Thu May 10 17:59:17 MST 2018</td>\n",
       "      <td>1981</td>\n",
       "      <td>2.0</td>\n",
       "    </tr>\n",
       "    <tr>\n",
       "      <th>4</th>\n",
       "      <td>1526000357902</td>\n",
       "      <td>00 01 02 03 04 05 06 07 08 09 0A 0B 0C 0D 0E ...</td>\n",
       "      <td>Thu May 10 17:59:17 MST 2018</td>\n",
       "      <td>2002</td>\n",
       "      <td>2.0</td>\n",
       "    </tr>\n",
       "  </tbody>\n",
       "</table>\n",
       "</div>"
      ],
      "text/plain": [
       "       EpochTime                                               Data  \\\n",
       "0  1526000355900   00 01 02 03 04 05 06 07 08 09 0A 0B 0C 0D 0E ...   \n",
       "1  1526000356879   00 01 02 03 04 05 06 07 08 09 0A 0B 0C 0D 0E ...   \n",
       "2  1526000356886   00 01 02 03 04 05 06 07 08 09 0A 0B 0C 0D 0E ...   \n",
       "3  1526000357881   00 01 02 03 04 05 06 07 08 09 0A 0B 0C 0D 0E ...   \n",
       "4  1526000357902   00 01 02 03 04 05 06 07 08 09 0A 0B 0C 0D 0E ...   \n",
       "\n",
       "                        DateTime  SimpleTime  TimeIndex  \n",
       "0   Thu May 10 17:59:15 MST 2018           0        0.0  \n",
       "1   Thu May 10 17:59:16 MST 2018         979        1.0  \n",
       "2   Thu May 10 17:59:16 MST 2018         986        1.0  \n",
       "3   Thu May 10 17:59:17 MST 2018        1981        2.0  \n",
       "4   Thu May 10 17:59:17 MST 2018        2002        2.0  "
      ]
     },
     "execution_count": 33,
     "metadata": {},
     "output_type": "execute_result"
    }
   ],
   "source": [
    "data.head()"
   ]
  },
  {
   "cell_type": "code",
   "execution_count": 35,
   "metadata": {},
   "outputs": [],
   "source": [
    "c = data[\"TimeIndex\"].value_counts()"
   ]
  },
  {
   "cell_type": "code",
   "execution_count": 36,
   "metadata": {},
   "outputs": [
    {
     "data": {
      "text/plain": [
       "360.0    4\n",
       "777.0    4\n",
       "380.0    4\n",
       "400.0    4\n",
       "66.0     4\n",
       "Name: TimeIndex, dtype: int64"
      ]
     },
     "execution_count": 36,
     "metadata": {},
     "output_type": "execute_result"
    }
   ],
   "source": [
    "c.head()"
   ]
  },
  {
   "cell_type": "code",
   "execution_count": 37,
   "metadata": {},
   "outputs": [
    {
     "data": {
      "text/plain": [
       "360.0    4\n",
       "777.0    4\n",
       "380.0    4\n",
       "400.0    4\n",
       "66.0     4\n",
       "688.0    4\n",
       "480.0    4\n",
       "440.0    4\n",
       "172.0    4\n",
       "152.0    4\n",
       "132.0    3\n",
       "757.0    3\n",
       "717.0    3\n",
       "331.0    3\n",
       "607.0    3\n",
       "340.0    3\n",
       "320.0    3\n",
       "112.0    3\n",
       "371.0    3\n",
       "596.0    3\n",
       "203.0    3\n",
       "207.0    3\n",
       "44.0     3\n",
       "270.0    3\n",
       "737.0    3\n",
       "549.0    3\n",
       "196.0    3\n",
       "509.0    3\n",
       "269.0    3\n",
       "200.0    3\n",
       "        ..\n",
       "644.0    2\n",
       "684.0    2\n",
       "724.0    2\n",
       "234.0    2\n",
       "250.0    2\n",
       "246.0    2\n",
       "242.0    2\n",
       "230.0    2\n",
       "254.0    2\n",
       "226.0    2\n",
       "764.0    2\n",
       "756.0    1\n",
       "205.0    1\n",
       "548.0    1\n",
       "62.0     1\n",
       "339.0    1\n",
       "736.0    1\n",
       "252.0    1\n",
       "43.0     1\n",
       "443.0    1\n",
       "131.0    1\n",
       "202.0    1\n",
       "319.0    1\n",
       "634.0    1\n",
       "330.0    1\n",
       "111.0    1\n",
       "508.0    1\n",
       "370.0    1\n",
       "716.0    1\n",
       "0.0      1\n",
       "Name: TimeIndex, Length: 769, dtype: int64"
      ]
     },
     "execution_count": 37,
     "metadata": {},
     "output_type": "execute_result"
    }
   ],
   "source": [
    "c"
   ]
  },
  {
   "cell_type": "code",
   "execution_count": null,
   "metadata": {},
   "outputs": [],
   "source": []
  }
 ],
 "metadata": {
  "kernelspec": {
   "display_name": "Python 3",
   "language": "python",
   "name": "python3"
  },
  "language_info": {
   "codemirror_mode": {
    "name": "ipython",
    "version": 3
   },
   "file_extension": ".py",
   "mimetype": "text/x-python",
   "name": "python",
   "nbconvert_exporter": "python",
   "pygments_lexer": "ipython3",
   "version": "3.6.3"
  }
 },
 "nbformat": 4,
 "nbformat_minor": 2
}
